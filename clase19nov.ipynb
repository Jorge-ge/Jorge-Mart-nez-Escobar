{
 "cells": [
  {
   "cell_type": "markdown",
   "metadata": {},
   "source": [
    "### CLASE 19 Noviembre"
   ]
  },
  {
   "cell_type": "markdown",
   "metadata": {},
   "source": [
    "### ESCRIBE UN PROGRAMA QUE PIDA UN NUMERO POSITIVO Y CALCULE LA SUMA DE SUS DIGITOS"
   ]
  },
  {
   "cell_type": "code",
   "execution_count": 6,
   "metadata": {},
   "outputs": [
    {
     "name": "stdin",
     "output_type": "stream",
     "text": [
      "Introduce un nùmero entero positivo uno\n"
     ]
    },
    {
     "name": "stdout",
     "output_type": "stream",
     "text": [
      "Eso no es número\n"
     ]
    }
   ],
   "source": [
    "numero_st=input(\"Introduce un nùmero entero positivo\")\n",
    "\n",
    "if numero_st.isdigit():\n",
    "    numero=eval(numero_st)\n",
    "    suma=0\n",
    "    while numero>0:\n",
    "        suma=suma+numero%10\n",
    "        numero=int(numero/10)\n",
    "    print(\"La solución de las cifras es\", suma)\n",
    "else:\n",
    "    print(\"Eso no es número\")"
   ]
  },
  {
   "cell_type": "markdown",
   "metadata": {},
   "source": [
    "### CREA UNA LISTA DE CIUDADES, IMPRIME SU INDICE...."
   ]
  },
  {
   "cell_type": "code",
   "execution_count": 8,
   "metadata": {},
   "outputs": [
    {
     "name": "stdout",
     "output_type": "stream",
     "text": [
      "['Madrid', 'Mostoles', 'Alcorcón', 'Fuenlabrada']\n"
     ]
    },
    {
     "name": "stdin",
     "output_type": "stream",
     "text": [
      "Dime una ciudad: Torrejón\n"
     ]
    },
    {
     "name": "stdout",
     "output_type": "stream",
     "text": [
      "Torrejón no está en la lista, la incluyo\n",
      "['Madrid', 'Mostoles', 'Alcorcón', 'Fuenlabrada', 'Torrejón']\n"
     ]
    }
   ],
   "source": [
    "lista_ciudades= [\"Madrid\",\"Mostoles\",\"Alcorcón\",\"Fuenlabrada\"]\n",
    "\n",
    "print(lista_ciudades)\n",
    "ciudad=input(\"Dime una ciudad:\")\n",
    "\n",
    "if ciudad in lista_ciudades:\n",
    "    print(lista_ciudades.index(ciudad))\n",
    "else:\n",
    "    print(ciudad,\"no está en la lista, la incluyo\")\n",
    "    lista_ciudades.append(ciudad)\n",
    "    print(lista_ciudades)"
   ]
  },
  {
   "cell_type": "markdown",
   "metadata": {},
   "source": [
    "### Añade una pregunta al programa anterior para que le pida al usuario un numero y muestre la ciudad correspondiente a ese indice"
   ]
  },
  {
   "cell_type": "code",
   "execution_count": 11,
   "metadata": {},
   "outputs": [
    {
     "name": "stdin",
     "output_type": "stream",
     "text": [
      "Dime una posición: 13\n"
     ]
    },
    {
     "name": "stdout",
     "output_type": "stream",
     "text": [
      "No hay tantas ciudades\n"
     ]
    }
   ],
   "source": [
    "pos=eval(input(\"Dime una posición:\"))\n",
    "\n",
    "if pos<len(lista_ciudades):\n",
    "    print(\"La ciudad en la posición %i es %s\"%(pos,lista_ciudades[pos]))\n",
    "else:\n",
    "    print(\"No hay tantas ciudades\")"
   ]
  },
  {
   "cell_type": "markdown",
   "metadata": {},
   "source": [
    "##### Crea una lista con varios números y usando un bucle for imprime aquellos números que sean pares."
   ]
  },
  {
   "cell_type": "code",
   "execution_count": 14,
   "metadata": {},
   "outputs": [
    {
     "name": "stdout",
     "output_type": "stream",
     "text": [
      "2 4 6 8 10 "
     ]
    }
   ],
   "source": [
    "lista_numeros=[1,2,3,4,5,6,7,8,9,10]\n",
    "\n",
    "for numero in lista_numeros:\n",
    "    if numero%2==0:\n",
    "        print(numero,end=\" \")"
   ]
  },
  {
   "cell_type": "markdown",
   "metadata": {},
   "source": [
    "#### Mejora el programa para que al final indique el número de números pares que hay en la lista."
   ]
  },
  {
   "cell_type": "code",
   "execution_count": 16,
   "metadata": {},
   "outputs": [
    {
     "name": "stdout",
     "output_type": "stream",
     "text": [
      "2 4 6 8 10 \n",
      "Hay 5 numeros pares\n"
     ]
    }
   ],
   "source": [
    "lista_numeros=[1,2,3,4,5,6,7,8,9,10]\n",
    "num_pares=0\n",
    "\n",
    "for numero in lista_numeros:\n",
    "    if numero%2==0:\n",
    "        num_pares+=1\n",
    "        print(numero, end=\" \")\n",
    "print(\"\\nHay %i numeros pares\"%(num_pares))"
   ]
  },
  {
   "cell_type": "code",
   "execution_count": 20,
   "metadata": {},
   "outputs": [
    {
     "name": "stdout",
     "output_type": "stream",
     "text": [
      "0: Enero\n",
      "1: Febrero\n",
      "2: Marzo\n",
      "3: Abril\n",
      "4: Mayo\n",
      "5: Junio\n",
      "6: Julio\n",
      "7: Agosto\n",
      "8: Septiembre\n",
      "9: Octubre\n",
      "10: Noviembre\n",
      "11: Diciembre\n",
      "['Enero', 'Febrero', 'Marzo', 'Abril', 'Mayo', 'Junio', 'Julio', 'Agosto', 'Septiembre', 'Octubre', 'Noviembre', 'Diciembre']\n",
      "(0, 'Enero')\n",
      "(1, 'Febrero')\n",
      "(2, 'Marzo')\n",
      "(3, 'Abril')\n",
      "(4, 'Mayo')\n",
      "(5, 'Junio')\n",
      "(6, 'Julio')\n",
      "(7, 'Agosto')\n",
      "(8, 'Septiembre')\n",
      "(9, 'Octubre')\n",
      "(10, 'Noviembre')\n",
      "(11, 'Diciembre')\n"
     ]
    }
   ],
   "source": [
    "meses = ['Enero', 'Febrero', 'Marzo', 'Abril', 'Mayo', 'Junio',\n",
    "'Julio','Agosto','Septiembre','Octubre','Noviembre','Diciembre']\n",
    "for (i, valor) in enumerate(meses):\n",
    "    print('%d: %s' % (i, valor))\n",
    "print(meses)\n",
    "for elem in enumerate(meses):\n",
    "    print(elem)"
   ]
  },
  {
   "cell_type": "code",
   "execution_count": 23,
   "metadata": {},
   "outputs": [
    {
     "name": "stdout",
     "output_type": "stream",
     "text": [
      "0 2 4 6 8 10 12 14 16 18 20 22 24 26 28 30 32 34 36 38 40 42 44 46 48 50 52 54 56 58 60 62 64 66 68 70 72 74 76 78 80 82 84 86 88 90 92 94 96 "
     ]
    }
   ],
   "source": [
    "for i in range(98):\n",
    "    if i%2==0:\n",
    "        print(i,end=\" \")\n"
   ]
  },
  {
   "cell_type": "code",
   "execution_count": 27,
   "metadata": {},
   "outputs": [
    {
     "name": "stdout",
     "output_type": "stream",
     "text": [
      "[0, 2, 4, 6, 8, 10, 12, 14, 16, 18, 20, 22, 24, 26, 28, 30, 32, 34, 36, 38, 40, 42, 44, 46, 48, 50, 52, 54, 56, 58, 60, 62, 64, 66, 68, 70, 72, 74, 76, 78, 80, 82, 84, 86, 88, 90, 92, 94, 96, 98, 100, 102, 104, 106, 108, 110, 112, 114, 116, 118, 120, 122, 124, 126, 128, 130, 132, 134, 136, 138, 140, 142, 144, 146, 148, 150, 152, 154, 156, 158, 160, 162, 164, 166, 168, 170, 172, 174, 176, 178, 180, 182, 184, 186, 188, 190, 192, 194, 196, 198, 200, 202, 204, 206, 208, 210, 212, 214, 216, 218, 220, 222, 224, 226, 228, 230, 232, 234, 236, 238, 240, 242, 244, 246, 248, 250, 252, 254, 256, 258, 260, 262, 264, 266, 268, 270, 272, 274, 276, 278, 280, 282, 284, 286, 288, 290, 292, 294, 296, 298]\n"
     ]
    }
   ],
   "source": [
    "lista_numeros=[]\n",
    "for i in range(0,300,2):\n",
    "    lista_numeros.append(i)\n",
    "print(lista_numeros)"
   ]
  },
  {
   "cell_type": "code",
   "execution_count": 28,
   "metadata": {},
   "outputs": [
    {
     "name": "stdout",
     "output_type": "stream",
     "text": [
      "28001 MADRID\n",
      "08001 BARCELONA\n",
      "43002 ORENSE\n"
     ]
    }
   ],
   "source": [
    "cp=[\"28001\",\"08001\",\"43002\"]\n",
    "ciudades=[\"Madrid\",\"Barcelona\",\"Orense\",\"Santander\"]\n",
    "\n",
    "for c1,c2 in zip(cp,ciudades):\n",
    "    print(c1,c2.upper())"
   ]
  },
  {
   "cell_type": "code",
   "execution_count": 29,
   "metadata": {},
   "outputs": [
    {
     "name": "stdout",
     "output_type": "stream",
     "text": [
      "['28001', '08001', '43002']\n",
      "['08001', '28001', '43002']\n"
     ]
    }
   ],
   "source": [
    "print(cp)\n",
    "cp.sort()\n",
    "print(cp)"
   ]
  },
  {
   "cell_type": "markdown",
   "metadata": {},
   "source": [
    "#### Ejercicio Lista"
   ]
  },
  {
   "cell_type": "code",
   "execution_count": 53,
   "metadata": {},
   "outputs": [
    {
     "name": "stdout",
     "output_type": "stream",
     "text": [
      "3\n"
     ]
    },
    {
     "name": "stdin",
     "output_type": "stream",
     "text": [
      "Dime un nombre: Jorge\n"
     ]
    },
    {
     "name": "stdout",
     "output_type": "stream",
     "text": [
      "Ese nombre está en la lista\n",
      "El porcentaje de veces que ese nombre está en la lista es de 50.0 %\n"
     ]
    }
   ],
   "source": [
    "lista_string=[\"Jorge\",\"Ian\",\"Omar\",\"Camila\",\"Jorge\",\"Jorge\"]\n",
    "nombre=\"Jorge\"\n",
    "lista_string.count(nombre)\n",
    "print(lista_string.count(nombre))\n",
    "resultado=input(\"Dime un nombre:\")\n",
    "veces=lista_string.count(resultado)\n",
    "if resultado in lista_string:\n",
    "    print(\"Ese nombre está en la lista\")\n",
    "else:\n",
    "    print(\"Ese nombre no está en la lista\")\n",
    "porcentaje=(veces/len(lista_string))*100\n",
    "print (\"El porcentaje de veces que ese nombre está en la lista es de\",porcentaje,\"%\")\n",
    "                \n",
    "            \n"
   ]
  },
  {
   "cell_type": "markdown",
   "metadata": {},
   "source": [
    "### Solución profesor"
   ]
  },
  {
   "cell_type": "code",
   "execution_count": 45,
   "metadata": {},
   "outputs": [
    {
     "name": "stdin",
     "output_type": "stream",
     "text": [
      "string a buscar enero\n"
     ]
    },
    {
     "name": "stdout",
     "output_type": "stream",
     "text": [
      "3\n",
      "'enero' aparece un42.857143% de veces\n"
     ]
    }
   ],
   "source": [
    "lista_strings=[\"enero\",\"enero\",\"febrero\",\"martillo\",\"ventana\",\"cocina\",\"enero\"]\n",
    "cadena=input(\"string a buscar\")\n",
    "\n",
    "contador=0\n",
    "\n",
    "for palabra in lista_strings:\n",
    "    if cadena==palabra:\n",
    "        contador+=1\n",
    "print(contador)\n",
    "print(\"'%s' aparece un%f%% de veces\"% (cadena,contador/len(lista_strings)*100))"
   ]
  },
  {
   "cell_type": "markdown",
   "metadata": {},
   "source": [
    "# TUPLAS"
   ]
  },
  {
   "cell_type": "code",
   "execution_count": 60,
   "metadata": {},
   "outputs": [
    {
     "name": "stdout",
     "output_type": "stream",
     "text": [
      "tres\n",
      "3\n",
      "('uno', 'dos', 'tres', 'uno', 'dos', 'tres', 'uno', 'dos', 'tres')\n"
     ]
    }
   ],
   "source": [
    "tupla1=(\"uno\",\"dos\",\"tres\")\n",
    "tupla2=(\"cuatro\",\"cinco\",\"seis\",\"siete\")\n",
    "print (tupla1[2])\n",
    "print(len(tupla1))\n",
    "print(tupla1*3)\n",
    "tupla1+tupla2\n",
    "tupla1=tupla2"
   ]
  },
  {
   "cell_type": "code",
   "execution_count": 62,
   "metadata": {},
   "outputs": [
    {
     "name": "stdout",
     "output_type": "stream",
     "text": [
      "[('28040', 'Madrid'), ('08080', 'Barcelona'), ('28002', 'Madrid')]\n"
     ]
    }
   ],
   "source": [
    "lista_ciudades=[(\"28040\",\"Madrid\"),(\"08080\",\"Barcelona\"),(\"28002\",\"Madrid\"),(\"28027\",\"Madrid\")]\n",
    "print(lista_ciudades)\n",
    "resultado[]\n",
    "for ciudad in lista_ciudades:\n",
    "    if ciudad[1]==\"Madrid\"\n",
    "    resultado.append[0]\n",
    "resultado.sort()\n",
    "for r in resultado:\n",
    "    print(r,end=\" \")\n",
    "    \n"
   ]
  },
  {
   "cell_type": "code",
   "execution_count": 71,
   "metadata": {},
   "outputs": [
    {
     "name": "stdout",
     "output_type": "stream",
     "text": [
      "{1: 'a', 11: 'b', 2: 'aa', 12: 'bb', 3: 'aaa', 13: 'bbb', 4: 'aaaa', 14: 'bbbb', 5: 'aaaaa', 15: 'bbbbb', 6: 'aaaaaa', 16: 'bbbbbb', 7: 'aaaaaaa', 17: 'bbbbbbb', 8: 'aaaaaaaa', 18: 'bbbbbbbb', 9: 'aaaaaaaaa', 19: 'bbbbbbbbb', 10: 'aaaaaaaaaa', 20: 'bbbbbbbbbb'}\n"
     ]
    }
   ],
   "source": [
    "diccionario={}\n",
    "for i in range(1,11):\n",
    "    diccionario[i]=\"a\"*i\n",
    "    diccionario[i+10]=\"b\"*i\n",
    "print(diccionario)"
   ]
  },
  {
   "cell_type": "code",
   "execution_count": 73,
   "metadata": {},
   "outputs": [
    {
     "name": "stdout",
     "output_type": "stream",
     "text": [
      "1   a\n",
      "11   b\n",
      "2   aa\n",
      "12   bb\n",
      "3   aaa\n",
      "13   bbb\n",
      "4   aaaa\n",
      "14   bbbb\n",
      "5   aaaaa\n",
      "15   bbbbb\n",
      "6   aaaaaa\n",
      "16   bbbbbb\n",
      "7   aaaaaaa\n",
      "17   bbbbbbb\n",
      "8   aaaaaaaa\n",
      "18   bbbbbbbb\n",
      "9   aaaaaaaaa\n",
      "19   bbbbbbbbb\n",
      "10   aaaaaaaaaa\n",
      "20   bbbbbbbbbb\n"
     ]
    }
   ],
   "source": [
    "for num in diccionario:\n",
    "    print(num,\" \",end=\" \")\n",
    "    print(diccionario[num])"
   ]
  },
  {
   "cell_type": "code",
   "execution_count": 82,
   "metadata": {},
   "outputs": [
    {
     "ename": "SyntaxError",
     "evalue": "invalid syntax (<ipython-input-82-f8c2d98ff0ff>, line 4)",
     "output_type": "error",
     "traceback": [
      "\u001b[1;36m  File \u001b[1;32m\"<ipython-input-82-f8c2d98ff0ff>\"\u001b[1;36m, line \u001b[1;32m4\u001b[0m\n\u001b[1;33m    print(diccionario{c})\u001b[0m\n\u001b[1;37m                     ^\u001b[0m\n\u001b[1;31mSyntaxError\u001b[0m\u001b[1;31m:\u001b[0m invalid syntax\n"
     ]
    }
   ],
   "source": [
    "claves_ordenadas=sorted(diccionario)\n",
    "for c in claves_ordenadas:\n",
    "    print(c,\":\",end=\" \")\n",
    "    print(diccionario{c})\n",
    "diccionario2=diccionario2{c}\n",
    "for c in sorted(diccionario):\n",
    "    diccionario2{c}=diccionario2{c}\n",
    "print(diccionario{c})"
   ]
  },
  {
   "cell_type": "code",
   "execution_count": 83,
   "metadata": {},
   "outputs": [
    {
     "data": {
      "text/plain": [
       "['a',\n",
       " 'aa',\n",
       " 'aaa',\n",
       " 'aaaa',\n",
       " 'aaaaa',\n",
       " 'aaaaaa',\n",
       " 'aaaaaaa',\n",
       " 'aaaaaaaa',\n",
       " 'aaaaaaaaa',\n",
       " 'aaaaaaaaaa',\n",
       " 'b',\n",
       " 'bb',\n",
       " 'bbb',\n",
       " 'bbbb',\n",
       " 'bbbbb',\n",
       " 'bbbbbb',\n",
       " 'bbbbbbb',\n",
       " 'bbbbbbbb',\n",
       " 'bbbbbbbbb',\n",
       " 'bbbbbbbbbb']"
      ]
     },
     "execution_count": 83,
     "metadata": {},
     "output_type": "execute_result"
    }
   ],
   "source": [
    "sorted(diccionario.values())"
   ]
  },
  {
   "cell_type": "code",
   "execution_count": 85,
   "metadata": {},
   "outputs": [
    {
     "name": "stdout",
     "output_type": "stream",
     "text": [
      "['09045', '28040', 'O8080']\n",
      "['Badajoz', 'Barcelona', 'Madrid']\n"
     ]
    }
   ],
   "source": [
    "diccionario_ciudades={\"28040\":\"Madrid\",\"O8080\":\"Barcelona\",\"09045\":\"Badajoz\"}\n",
    "print(sorted(diccionario_ciudades))\n",
    "print(sorted(diccionario_ciudades.values()))"
   ]
  },
  {
   "cell_type": "code",
   "execution_count": 95,
   "metadata": {},
   "outputs": [
    {
     "ename": "TypeError",
     "evalue": "'dict' object is not callable",
     "output_type": "error",
     "traceback": [
      "\u001b[1;31m---------------------------------------------------------------------------\u001b[0m",
      "\u001b[1;31mTypeError\u001b[0m                                 Traceback (most recent call last)",
      "\u001b[1;32m<ipython-input-95-3a63e168e14d>\u001b[0m in \u001b[0;36m<module>\u001b[1;34m\u001b[0m\n\u001b[0;32m      1\u001b[0m \u001b[0mdiccionario_juguetes\u001b[0m\u001b[1;33m=\u001b[0m\u001b[1;33m{\u001b[0m\u001b[1;34m\"Muñeco\"\u001b[0m\u001b[1;33m:\u001b[0m\u001b[1;34m\"2\"\u001b[0m\u001b[1;33m,\u001b[0m\u001b[1;34m\"Coche\"\u001b[0m\u001b[1;33m:\u001b[0m\u001b[1;34m\"5\"\u001b[0m\u001b[1;33m,\u001b[0m \u001b[1;34m\"Pelota\"\u001b[0m\u001b[1;33m:\u001b[0m\u001b[1;34m\"1\"\u001b[0m\u001b[1;33m,\u001b[0m\u001b[1;34m\"Consola\"\u001b[0m\u001b[1;33m:\u001b[0m\u001b[1;34m\"3\"\u001b[0m\u001b[1;33m,\u001b[0m\u001b[1;34m\"Videojuego\"\u001b[0m\u001b[1;33m:\u001b[0m\u001b[1;34m\"4\"\u001b[0m \u001b[1;33m}\u001b[0m\u001b[1;33m\u001b[0m\u001b[1;33m\u001b[0m\u001b[0m\n\u001b[1;32m----> 2\u001b[1;33m \u001b[1;32mfor\u001b[0m \u001b[0mjuguete\u001b[0m \u001b[1;32min\u001b[0m \u001b[0msorted\u001b[0m \u001b[1;33m(\u001b[0m\u001b[0mdiccionario_juguetes\u001b[0m\u001b[1;33m(\u001b[0m\u001b[1;33m)\u001b[0m\u001b[1;33m)\u001b[0m\u001b[1;33m:\u001b[0m\u001b[1;33m\u001b[0m\u001b[1;33m\u001b[0m\u001b[0m\n\u001b[0m\u001b[0;32m      3\u001b[0m     \u001b[0mprint\u001b[0m\u001b[1;33m(\u001b[0m\u001b[0mjuguete\u001b[0m\u001b[1;33m,\u001b[0m\u001b[0mend\u001b[0m\u001b[1;33m=\u001b[0m\u001b[1;34m\" \"\u001b[0m\u001b[1;33m)\u001b[0m\u001b[1;33m\u001b[0m\u001b[1;33m\u001b[0m\u001b[0m\n\u001b[0;32m      4\u001b[0m     \u001b[0mprint\u001b[0m\u001b[1;33m(\u001b[0m\u001b[0mdiccionario_juguetes\u001b[0m\u001b[1;33m[\u001b[0m\u001b[0mjuguete\u001b[0m\u001b[1;33m]\u001b[0m\u001b[1;33m)\u001b[0m\u001b[1;33m\u001b[0m\u001b[1;33m\u001b[0m\u001b[0m\n\u001b[0;32m      5\u001b[0m     \u001b[0mprint\u001b[0m\u001b[1;33m(\u001b[0m\u001b[0msorted\u001b[0m\u001b[1;33m(\u001b[0m\u001b[0mdiccionario_juguetes\u001b[0m\u001b[1;33m.\u001b[0m\u001b[0mvalues\u001b[0m\u001b[1;33m(\u001b[0m\u001b[1;33m)\u001b[0m\u001b[1;33m)\u001b[0m\u001b[1;33m)\u001b[0m\u001b[1;33m\u001b[0m\u001b[1;33m\u001b[0m\u001b[0m\n",
      "\u001b[1;31mTypeError\u001b[0m: 'dict' object is not callable"
     ]
    }
   ],
   "source": [
    "diccionario_juguetes={\"Muñeco\":\"2\",\"Coche\":\"5\", \"Pelota\":\"1\",\"Consola\":\"3\",\"Videojuego\":\"4\" }\n",
    "for juguete in sorted (diccionario_juguetes()):\n",
    "    print(juguete,end=\" \")\n",
    "    print(diccionario_juguetes[juguete])\n",
    "    print(sorted(diccionario_juguetes.values()))"
   ]
  },
  {
   "cell_type": "code",
   "execution_count": null,
   "metadata": {},
   "outputs": [],
   "source": []
  },
  {
   "cell_type": "code",
   "execution_count": null,
   "metadata": {},
   "outputs": [],
   "source": []
  },
  {
   "cell_type": "code",
   "execution_count": null,
   "metadata": {},
   "outputs": [],
   "source": []
  },
  {
   "cell_type": "code",
   "execution_count": null,
   "metadata": {},
   "outputs": [],
   "source": []
  },
  {
   "cell_type": "code",
   "execution_count": null,
   "metadata": {},
   "outputs": [],
   "source": []
  },
  {
   "cell_type": "code",
   "execution_count": null,
   "metadata": {},
   "outputs": [],
   "source": []
  }
 ],
 "metadata": {
  "kernelspec": {
   "display_name": "Python 3",
   "language": "python",
   "name": "python3"
  },
  "language_info": {
   "codemirror_mode": {
    "name": "ipython",
    "version": 3
   },
   "file_extension": ".py",
   "mimetype": "text/x-python",
   "name": "python",
   "nbconvert_exporter": "python",
   "pygments_lexer": "ipython3",
   "version": "3.8.3"
  }
 },
 "nbformat": 4,
 "nbformat_minor": 4
}
