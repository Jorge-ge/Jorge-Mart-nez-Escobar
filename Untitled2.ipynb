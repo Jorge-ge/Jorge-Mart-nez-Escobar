{
 "cells": [
  {
   "cell_type": "code",
   "execution_count": 4,
   "metadata": {},
   "outputs": [
    {
     "name": "stdin",
     "output_type": "stream",
     "text": [
      "Dime tu nombre Mario\n"
     ]
    },
    {
     "name": "stdout",
     "output_type": "stream",
     "text": [
      "Encantado de conocerte\n",
      "Hasta Luego\n"
     ]
    }
   ],
   "source": [
    "nombre=input(\"Dime tu nombre\")\n",
    "if nombre==\"Jorge\":\n",
    "    print(\"Hola\"+nombre)\n",
    "    print(\"¿Que tal estas?\")\n",
    "elif nombre==\"Jorge\":\n",
    "    print(\"Los que se llaman \"+nombre+\" no me cae bien\")\n",
    "else:\n",
    "    print(\"Encantado de conocerte\")\n",
    "print(\"Hasta Luego\")"
   ]
  },
  {
   "cell_type": "code",
   "execution_count": 8,
   "metadata": {},
   "outputs": [
    {
     "name": "stdin",
     "output_type": "stream",
     "text": [
      "Dime un numero: 63\n"
     ]
    },
    {
     "name": "stdout",
     "output_type": "stream",
     "text": [
      "Es impar\n"
     ]
    }
   ],
   "source": [
    "numero=input(\"Dime un numero:\")\n",
    "if numero.isdigit():\n",
    "    numero=eval(numero)\n",
    "    if numero%2==0:\n",
    "        print(\"Es par\")\n",
    "    else:\n",
    "        print(\"Es impar\")\n",
    "else:\n",
    "    print(\"Eso no es numero\")"
   ]
  },
  {
   "cell_type": "markdown",
   "metadata": {},
   "source": [
    "### Bucles while"
   ]
  },
  {
   "cell_type": "code",
   "execution_count": 9,
   "metadata": {},
   "outputs": [
    {
     "name": "stdout",
     "output_type": "stream",
     "text": [
      "1\n",
      "2\n",
      "3\n",
      "4\n",
      "5\n",
      "6\n",
      "7\n",
      "8\n",
      "9\n",
      "10\n"
     ]
    }
   ],
   "source": [
    "a=1\n",
    "while a<=10:\n",
    "    print(a)\n",
    "    a=a+1"
   ]
  },
  {
   "cell_type": "code",
   "execution_count": 12,
   "metadata": {},
   "outputs": [
    {
     "name": "stdin",
     "output_type": "stream",
     "text": [
      "Dime el dividendo 47\n",
      "Dime el divisor 8\n"
     ]
    },
    {
     "name": "stdout",
     "output_type": "stream",
     "text": [
      "cociente: 5\n",
      "resto: 7\n"
     ]
    }
   ],
   "source": [
    "dividendo=eval(input(\"Dime el dividendo\"))\n",
    "divisor=eval(input(\"Dime el divisor\"))\n",
    "cociente=0\n",
    "\n",
    "while dividendo>=divisor:\n",
    "    cociente=cociente+1\n",
    "    dividendo=dividendo-divisor\n",
    "    \n",
    "print(\"cociente:\" , cociente)\n",
    "print(\"resto:\" , dividendo)"
   ]
  },
  {
   "cell_type": "markdown",
   "metadata": {},
   "source": [
    "2^x =2+2^(x-1)"
   ]
  },
  {
   "cell_type": "code",
   "execution_count": 15,
   "metadata": {},
   "outputs": [
    {
     "name": "stdin",
     "output_type": "stream",
     "text": [
      "Dime la potencia: (2^x) 10\n"
     ]
    },
    {
     "name": "stdout",
     "output_type": "stream",
     "text": [
      "2 4 8 16 32 64 128 256 512 1024 "
     ]
    }
   ],
   "source": [
    "potencia=eval(input(\"Dime la potencia: (2^x)\"))\n",
    "pot=1\n",
    "while potencia>0:\n",
    "    pot=pot*2\n",
    "    potencia=potencia-1\n",
    "    print(pot,end=' ')"
   ]
  },
  {
   "cell_type": "markdown",
   "metadata": {},
   "source": [
    "#### Print para poner un espacio en vez del salto de linea, hay que poner end=' ' con t de tabulador, espacio etc"
   ]
  },
  {
   "cell_type": "markdown",
   "metadata": {},
   "source": [
    "## Ejercicio Numeros Primos"
   ]
  },
  {
   "cell_type": "code",
   "execution_count": 24,
   "metadata": {},
   "outputs": [
    {
     "name": "stdin",
     "output_type": "stream",
     "text": [
      "Dime tu numero: 89\n"
     ]
    },
    {
     "name": "stdout",
     "output_type": "stream",
     "text": [
      "2\n",
      "3\n",
      "5\n",
      "7\n",
      "11\n",
      "13\n",
      "17\n",
      "19\n",
      "23\n",
      "29\n",
      "31\n",
      "37\n",
      "41\n",
      "43\n",
      "47\n",
      "53\n",
      "59\n",
      "61\n",
      "67\n",
      "71\n",
      "73\n",
      "79\n",
      "83\n"
     ]
    }
   ],
   "source": [
    "limite=eval(input(\"Dime tu numero:\"))\n",
    "candidato_a_primo=1\n",
    "# genero los candidatos a ser número primo\n",
    "while candidato_a_primo<limite:\n",
    "    divisor=2\n",
    "# compruebo si el candidato es primo\n",
    "    while (divisor<candidato_a_primo) and (candidato_a_primo%divisor!=0):\n",
    "        divisor=divisor+1\n",
    "\n",
    "    if divisor ==candidato_a_primo:\n",
    "        print(candidato_a_primo)\n",
    "    \n",
    "    candidato_a_primo=candidato_a_primo+1"
   ]
  },
  {
   "cell_type": "code",
   "execution_count": null,
   "metadata": {},
   "outputs": [],
   "source": []
  }
 ],
 "metadata": {
  "kernelspec": {
   "display_name": "Python 3",
   "language": "python",
   "name": "python3"
  },
  "language_info": {
   "codemirror_mode": {
    "name": "ipython",
    "version": 3
   },
   "file_extension": ".py",
   "mimetype": "text/x-python",
   "name": "python",
   "nbconvert_exporter": "python",
   "pygments_lexer": "ipython3",
   "version": "3.8.3"
  }
 },
 "nbformat": 4,
 "nbformat_minor": 4
}
