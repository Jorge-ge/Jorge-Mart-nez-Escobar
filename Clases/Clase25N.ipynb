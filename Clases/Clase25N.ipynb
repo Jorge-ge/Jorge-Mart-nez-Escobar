{
 "cells": [
  {
   "cell_type": "code",
   "execution_count": 11,
   "metadata": {},
   "outputs": [
    {
     "name": "stdout",
     "output_type": "stream",
     "text": [
      "Array [2.3 1.8 3.7 8.2 1.9 1.8]\n",
      "[[2.3 1.8 3.7 8.2 1.9 1.8]\n",
      " [8.5 7.5 9.2 2.9 6.8 8.5]]\n",
      "12\n",
      "(2, 6)\n",
      "float64\n",
      "[[[ 1  2  3]\n",
      "  [ 4  5  6]]\n",
      "\n",
      " [[ 7  8  9]\n",
      "  [10 11 12]]]\n",
      "12\n",
      "(2, 2, 3)\n",
      "int32\n",
      "[0 1 2 3 4 5 6 7 8 9]\n",
      "[0. 1. 2. 3. 4. 5. 6. 7. 8. 9.]\n"
     ]
    }
   ],
   "source": [
    "import numpy as np\n",
    "\n",
    "altura=[2.3,1.8,3.7,8.2,1.9,1.8]\n",
    "anchura=[8.5,7.5,9.2,2.9,6.8,8.5]\n",
    "\n",
    "v_altura=np.array(altura)\n",
    "v_anchura=np.array(anchura)\n",
    "print(\"Array\",v_altura)\n",
    "\n",
    "dimensiones=np.array([altura,anchura])\n",
    "print(dimensiones)\n",
    "print(dimensiones.size)\n",
    "print(dimensiones.shape)\n",
    "print(dimensiones.dtype)\n",
    "\n",
    "arr3d=np.array([[[1,2,3],[4,5,6]],[[7,8,9],[10,11,12]]])\n",
    "print(arr3d)\n",
    "print(arr3d.size)\n",
    "print(arr3d.shape)\n",
    "print(arr3d.dtype)\n",
    "\n",
    "arr3d2=np.array(np.arange(10))\n",
    "print(arr3d2)\n",
    "print(arr3d2.astype(np.float32))\n"
   ]
  },
  {
   "cell_type": "code",
   "execution_count": 20,
   "metadata": {},
   "outputs": [
    {
     "name": "stdout",
     "output_type": "stream",
     "text": [
      "[0 0 0 0 0]\n",
      "[[1. 1. 1. 1. 1.]\n",
      " [1. 1. 1. 1. 1.]]\n",
      "[[[ 1  2  3]\n",
      "  [ 4  5  6]]\n",
      "\n",
      " [[ 7  8  9]\n",
      "  [10 11 12]]]\n",
      "[[0. 0. 0. 0. 0.]\n",
      " [0. 0. 0. 0. 0.]]\n",
      "[ 1.   1.5  2.   2.5  3.   3.5  4.   4.5  5.   5.5  6.   6.5  7.   7.5\n",
      "  8.   8.5  9.   9.5 10.  10.5]\n",
      "[  0.  10.  20.  30.  40.  50.  60.  70.  80.  90. 100.]\n",
      "[100. 110. 120. 130. 140. 150. 160. 170. 180. 190. 200.]\n",
      "[  1.    1.5   2.    2.5   3.    3.5   4.    4.5   5.    5.5   6.    6.5\n",
      "   7.    7.5   8.    8.5   9.    9.5  10.   10.5   0.   10.   20.   30.\n",
      "  40.   50.   60.   70.   80.   90.  100.  100.  110.  120.  130.  140.\n",
      " 150.  160.  170.  180.  190.  200. ]\n",
      "[  0.    1.    1.5   2.    2.5   3.    3.5   4.    4.5   5.    5.5   6.\n",
      "   6.5   7.    7.5   8.    8.5   9.    9.5  10.   10.   10.5  20.   30.\n",
      "  40.   50.   60.   70.   80.   90.  100.  100.  110.  120.  130.  140.\n",
      " 150.  160.  170.  180.  190.  200. ]\n"
     ]
    }
   ],
   "source": [
    "vectorceros=np.zeros(5,dtype=np.int32)\n",
    "print(vectorceros)\n",
    "\n",
    "matrizunos=np.ones((2,5))\n",
    "print(matrizunos)\n",
    "\n",
    "cualquiercosa=np.empty((2,2,3),dtype=np.int32)\n",
    "print(cualquiercosa)\n",
    "\n",
    "matrizceros=np.zeros_like(matrizunos)\n",
    "print(matrizceros)\n",
    "\n",
    "vectorsecuencia=np.arange(1,11,0.5)\n",
    "print(vectorsecuencia)\n",
    "\n",
    "vectorlineal=np.linspace(0,100,11)\n",
    "print(vectorlineal)\n",
    "vectorlineal2=np.linspace(100,200,11)\n",
    "print(vectorlineal2)\n",
    "\n",
    "concatenado=np.concatenate((vectorsecuencia,vectorlineal,vectorlineal2))\n",
    "print(concatenado)\n",
    "\n",
    "concatenado.sort()\n",
    "print(concatenado)"
   ]
  },
  {
   "cell_type": "code",
   "execution_count": 25,
   "metadata": {},
   "outputs": [
    {
     "name": "stdout",
     "output_type": "stream",
     "text": [
      "0.7535499152991011\n",
      "\n",
      "[2.43579776 2.75530414 5.70196033 5.49617369 9.97281047 8.70827519\n",
      " 4.3119621  3.41831986 1.08160233 8.40096802]\n",
      "\n",
      "[[[0.65127007 0.3771021  0.81626255 0.66958544]\n",
      "  [0.77094884 0.65750307 0.05327662 0.39767489]\n",
      "  [0.91111482 0.43816059 0.86029446 0.57959302]]\n",
      "\n",
      " [[0.72134911 0.90071175 0.29982884 0.97211797]\n",
      "  [0.06164198 0.11119451 0.42202306 0.13747242]\n",
      "  [0.31538407 0.82813591 0.3171873  0.30872971]]]\n",
      "\n"
     ]
    }
   ],
   "source": [
    "print(np.random.rand(),end=\"\\n\\n\")\n",
    "print(np.random.rand(10)*10,end=\"\\n\\n\")\n",
    "print(np.random.rand(2,3,4),end=\"\\n\\n\")"
   ]
  },
  {
   "cell_type": "code",
   "execution_count": 32,
   "metadata": {},
   "outputs": [
    {
     "name": "stdout",
     "output_type": "stream",
     "text": [
      "[0 1 2 3 4 5 6 7 8 9]\n",
      "[ 5  6  7  8  9 10 11 12 13 14]\n",
      "[ 5  7  9 11 13 15 17 19 21 23]\n",
      "[-5 -5 -5 -5 -5 -5 -5 -5 -5 -5]\n",
      "[  0   6  14  24  36  50  66  84 104 126]\n",
      "[0.         0.16666667 0.28571429 0.375      0.44444444 0.5\n",
      " 0.54545455 0.58333333 0.61538462 0.64285714]\n",
      "[ 0  1  4  9 16 25 36 49 64 81]\n",
      "[False False  True False False False False False False False]\n",
      "[ 0  3  6  9 12 15 18 21 24 27]\n",
      "135\n",
      "0\n",
      "0\n",
      "27\n",
      "13.5\n"
     ]
    }
   ],
   "source": [
    "v1=np.arange(10)\n",
    "v2=np.arange(5,15)\n",
    "print(v1)\n",
    "print(v2)\n",
    "\n",
    "print(v1+v2)\n",
    "print(v1-v2)\n",
    "print(v1*v2)\n",
    "print(v1/v2)\n",
    "print(v1**2)\n",
    "print(v1==2)\n",
    "v1*=3\n",
    "print(v1)\n",
    "print(v1.sum())\n",
    "print(v1.prod())\n",
    "print(v1.min())\n",
    "print(v1.max())\n",
    "print(v1.mean())"
   ]
  },
  {
   "cell_type": "code",
   "execution_count": 39,
   "metadata": {},
   "outputs": [
    {
     "name": "stdout",
     "output_type": "stream",
     "text": [
      "[[0 1 2]\n",
      " [3 4 5]]\n",
      "[[ 0  2  4]\n",
      " [ 6  8 10]]\n",
      "15\n",
      "[3 5 7]\n",
      "[ 3 12]\n",
      "[1.5 2.5 3.5]\n",
      "[1 1 1]\n"
     ]
    }
   ],
   "source": [
    "m1=np.arange(6).reshape(2,3)\n",
    "print(m1)\n",
    "print(m1+m1)\n",
    "print(m1.sum())\n",
    "print(m1.sum(axis=0))\n",
    "print(m1.sum(axis=1))\n",
    "print(m1.mean(axis=0))\n",
    "print((m1>2).sum(axis=0))"
   ]
  },
  {
   "cell_type": "code",
   "execution_count": null,
   "metadata": {},
   "outputs": [],
   "source": [
    "print(np.square(m1))\n",
    "print(np.log(m1))\n",
    " #print(np.gcd)\n",
    "print(np.sin(m1))\n",
    "print(np.(m1))"
   ]
  },
  {
   "cell_type": "code",
   "execution_count": 41,
   "metadata": {},
   "outputs": [
    {
     "ename": "SyntaxError",
     "evalue": "invalid syntax (<ipython-input-41-fd8994429cc1>, line 8)",
     "output_type": "error",
     "traceback": [
      "\u001b[1;36m  File \u001b[1;32m\"<ipython-input-41-fd8994429cc1>\"\u001b[1;36m, line \u001b[1;32m8\u001b[0m\n\u001b[1;33m    plt.title(\"image plot of $\\sqrt\"){x^2 + y^2}$ ()\"for a grid values\")\u001b[0m\n\u001b[1;37m                                     ^\u001b[0m\n\u001b[1;31mSyntaxError\u001b[0m\u001b[1;31m:\u001b[0m invalid syntax\n"
     ]
    }
   ],
   "source": [
    "import matplotlib.pyplot as plt\n",
    "\n",
    "points=np.arange(-5,5,0.01)\n",
    "zs,ys=np.meshgrid(points,points)\n",
    "z= np.sqrt(xs**2+ ys**2)\n",
    "plt.imshow(z, cmap=plt.cm.summer)\n",
    "plt.colorbar()\n",
    "plt.title(\"image plot of $\\sqrt\"){x^2 + y^2}$ ()\"for a grid values\")"
   ]
  },
  {
   "cell_type": "code",
   "execution_count": 44,
   "metadata": {},
   "outputs": [
    {
     "name": "stdout",
     "output_type": "stream",
     "text": [
      "[  0   1   8  27  64 125 216 343 512 729]\n",
      "64\n",
      "[ 8 27 64]\n",
      "[  8  27  64 125 216 343 512 729]\n",
      "[  0   1   8  27  64 125 216]\n",
      "[ 8 27 64]\n",
      "[ 8 27 64]\n",
      "[  0   1   8  27  64 125 216 343 512 729]\n"
     ]
    }
   ],
   "source": [
    "a = np.arange(10)**3\n",
    "print(a)\n",
    "\n",
    "print(a[4])\n",
    "#print(a[10])#Error\n",
    "print(a[2:5])\n",
    "print(a[2:])\n",
    "print(a[:7])\n",
    "\n",
    "b=a[2:5]\n",
    "print(b)\n",
    "b[::]\n",
    "print(b)\n",
    "print(a)"
   ]
  },
  {
   "cell_type": "code",
   "execution_count": 45,
   "metadata": {},
   "outputs": [
    {
     "name": "stdout",
     "output_type": "stream",
     "text": [
      "[[-3 -2 -1  0  1]\n",
      " [ 0  1  2  3  4]\n",
      " [ 6  7  8  9 10]\n",
      " [ 0  9  4  2  4]]\n",
      "\n",
      "[0 1 2 3 4]\n",
      "3\n",
      "3\n",
      "[[-2 -1]\n",
      " [ 1  2]\n",
      " [ 7  8]]\n"
     ]
    }
   ],
   "source": [
    "array2d=np.array([np.arange(-3,2),np.arange(5),np.arange(6,11),np.random.randint(10,size=5)])\n",
    "print(array2d)\n",
    "print()\n",
    "print(array2d[1])\n",
    "print(array2d[1][3])\n",
    "print(array2d[1,3])\n",
    "print(array2d[:3,1:3])"
   ]
  },
  {
   "cell_type": "code",
   "execution_count": 49,
   "metadata": {},
   "outputs": [
    {
     "name": "stdout",
     "output_type": "stream",
     "text": [
      "[['ABC' 'ACD' 'AFS']\n",
      " ['BCD' 'BFG' 'BFR']\n",
      " ['DFR' 'DTY' 'DZZ']\n",
      " ['GBC' 'GFR' 'GVC']]\n",
      "['ABC' 'ACD' 'AFS']\n",
      "ACD\n",
      "C\n"
     ]
    }
   ],
   "source": [
    "arraym=np.array([[\"ABC\",\"ACD\",\"AFS\"],[\"BCD\",\"BFG\",\"BFR\"],[\"DFR\",\"DTY\",\"DZZ\"],[\"GBC\",\"GFR\",\"GVC\"]])\n",
    "print(arraym)\n",
    "print(arraym[0])\n",
    "print(arraym[0,1])\n",
    "print(arraym[0,1][1])"
   ]
  },
  {
   "cell_type": "code",
   "execution_count": 53,
   "metadata": {},
   "outputs": [
    {
     "name": "stdout",
     "output_type": "stream",
     "text": [
      "['Bob' 'Joe' 'Will' 'Bob' 'Will' 'Joe' 'Joe']\n",
      "[[-40  92   7   4]\n",
      " [-90 -41 -82  10]\n",
      " [-89  63 -34 -92]\n",
      " [-84 -16 -82  73]\n",
      " [ -8  60  81 -27]\n",
      " [ 71 -44 -65  98]\n",
      " [ 69 -99  85   7]]\n",
      "[ True False False  True False False False]\n",
      "[[-40  92   7   4]\n",
      " [-84 -16 -82  73]]\n",
      "[[-90 -41 -82  10]\n",
      " [-89  63 -34 -92]\n",
      " [ -8  60  81 -27]\n",
      " [ 71 -44 -65  98]\n",
      " [ 69 -99  85   7]]\n",
      "[[-40  92   7   4]\n",
      " [-89  63 -34 -92]\n",
      " [-84 -16 -82  73]\n",
      " [ -8  60  81 -27]]\n"
     ]
    }
   ],
   "source": [
    "names=np.array(['Bob','Joe','Will','Bob','Will','Joe','Joe'])\n",
    "data=np.random.randint(-100,100,size=(7,4))\n",
    "print(names)\n",
    "print(data)\n",
    "print(names=='Bob')\n",
    "print(data[names=='Bob'])\n",
    "print(data[names!='Bob'])\n",
    "print(data[(names=='Bob')| (names=='Will')])\n"
   ]
  },
  {
   "cell_type": "code",
   "execution_count": 56,
   "metadata": {},
   "outputs": [
    {
     "name": "stdout",
     "output_type": "stream",
     "text": [
      "[[ 0 92  7  4]\n",
      " [ 0  0  0 10]\n",
      " [ 0 63  0  0]\n",
      " [ 0  0  0 73]\n",
      " [ 0 60 81  0]\n",
      " [71  0  0 98]\n",
      " [69  0 85  7]]\n"
     ]
    }
   ],
   "source": [
    "data[data<0]=data.mean()\n",
    "print(data)"
   ]
  },
  {
   "cell_type": "code",
   "execution_count": 60,
   "metadata": {},
   "outputs": [
    {
     "data": {
      "image/png": "[encoded data removed]",
      "text/plain": [
       "<Figure size 432x288 with 1 Axes>"
      ]
     },
     "metadata": {
      "needs_background": "light"
     },
     "output_type": "display_data"
    }
   ],
   "source": [
    "import numpy as np \n",
    "import matplotlib.pyplot as plt\n",
    "\n",
    "x=np.linspace(-np.pi, np.pi, 32)\n",
    "seno,coseno=np.sin(x), np.cos(x)\n",
    "\n",
    "plt.plot(x,seno,'g--')\n",
    "plt.plot(x,coseno,dashes=[6,2],linewidth=4)\n",
    "\n",
    "plt.show()\n"
   ]
  },
  {
   "cell_type": "code",
   "execution_count": null,
   "metadata": {},
   "outputs": [],
   "source": []
  },
  {
   "cell_type": "code",
   "execution_count": null,
   "metadata": {},
   "outputs": [],
   "source": []
  }
 ],
 "metadata": {
  "kernelspec": {
   "display_name": "Python 3",
   "language": "python",
   "name": "python3"
  },
  "language_info": {
   "codemirror_mode": {
    "name": "ipython",
    "version": 3
   },
   "file_extension": ".py",
   "mimetype": "text/x-python",
   "name": "python",
   "nbconvert_exporter": "python",
   "pygments_lexer": "ipython3",
   "version": "3.8.3"
  }
 },
 "nbformat": 4,
 "nbformat_minor": 4
}
