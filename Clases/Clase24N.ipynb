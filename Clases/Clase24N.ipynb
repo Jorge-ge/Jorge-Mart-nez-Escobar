{
 "cells": [
  {
   "cell_type": "code",
   "execution_count": 4,
   "metadata": {},
   "outputs": [],
   "source": [
    "import tkinter as tk\n",
    "\n",
    "ventana_principal=tk.Tk()\n",
    "\n",
    "texto=tk.Label(ventana_principal,text=\"Para cerrar la ventana, pulsa la X en la esquina superior derecha\")\n",
    "texto.pack()\n",
    "\n",
    "ventana_principal.mainloop()"
   ]
  },
  {
   "cell_type": "code",
   "execution_count": 7,
   "metadata": {},
   "outputs": [],
   "source": [
    "root=tk.Tk()\n",
    "root.title(\"Principal\")\n",
    "\n",
    "top=tk.Toplevel()\n",
    "top.title(\"Toplevel\")\n",
    "\n",
    "root.mainloop()"
   ]
  },
  {
   "cell_type": "code",
   "execution_count": 8,
   "metadata": {},
   "outputs": [],
   "source": [
    "import tkinter as tk\n",
    "\n",
    "root=tk.Tk()\n",
    "panel=tk.PanedWindow()\n",
    "panel.pack(fill=tk.BOTH,expand=1)\n",
    "\n",
    "left=tk.Label(panel,text=\"panel izquierdo\")\n",
    "panel.add(left)\n",
    "\n",
    "panel2=tk.PanedWindow(panel,orient=tk.VERTICAL)\n",
    "panel.add(panel2)\n",
    "\n",
    "top=tk.Label(panel2,text=\"panel superior\")\n",
    "panel2.add(top)\n",
    "\n",
    "bottom=tk.Label(panel2,text=\"inferior\")\n",
    "panel2.add(bottom)\n",
    "\n",
    "root.mainloop()"
   ]
  },
  {
   "cell_type": "code",
   "execution_count": null,
   "metadata": {},
   "outputs": [],
   "source": [
    "import tkinter as tk\n",
    "\n",
    "root=tk.Tk()\n",
    "panel=tk.PanedWindow()\n",
    "panel.pack(fill=tk.BOTH,expand=1)\n",
    "\n",
    "left=tk.Label(panel,text=\"panel izquierdo\")\n",
    "panel.add(left)\n",
    "\n",
    "panel2=tk.PanedWindow(panel,orient=tk.VERTICAL)\n",
    "panel.add(panel2)\n",
    "\n",
    "top=tk.Label(panel2,text=\"panel superior\")\n",
    "panel2.add(top)\n",
    "\n",
    "bottom=tk.Label(panel2,text=\"inferior\")\n",
    "panel2.add(bottom)\n",
    "\n",
    "root.mainloop()"
   ]
  },
  {
   "cell_type": "code",
   "execution_count": 2,
   "metadata": {},
   "outputs": [],
   "source": [
    "import tkinter as tk\n",
    "root=tk.Tk()\n",
    "#Widgets:una imagen y un texto\n",
    "logo=tk.PhotoImage(file=\"imagen.gif\")\n",
    "imagen=tk.Label(root,image=logo).pack(side=\"right\")\n",
    "\n",
    "frase=\"\"\" Ejemplo de uso de ventana con una imagen y un texto\"\"\"\n",
    "texto=tk.Label(root, \n",
    "               justify=tk.LEFT,\n",
    "               padx=10,\n",
    "               text=frase).pack(side=\"right\")\n",
    "root.mainloop()"
   ]
  },
  {
   "cell_type": "code",
   "execution_count": 7,
   "metadata": {},
   "outputs": [],
   "source": [
    "import tkinter as tk\n",
    "root=tk.Tk()\n",
    "\n",
    "texto=\"Do or do not. Ther is no try.\\n(Yoda)\"\n",
    "widget_msg=tk.Message(root,text=texto)\n",
    "widget_msg.config(bg=\"lightgreen\", fg=\"darkgreen\",font=('times',72,'italic'))\n",
    "widget_msg.pack()\n",
    "root.mainloop()"
   ]
  },
  {
   "cell_type": "code",
   "execution_count": null,
   "metadata": {},
   "outputs": [],
   "source": [
    "import tkinter as tk\n",
    "\n",
    "def slogan():\n",
    "    widget_msg.config(text=\"Tkinter es facil\"(\"Tkinter es facil\")\n",
    "root=tk.Tk()\n",
    "\n",
    "frame=tk.Frame(root)\n",
    "frame.pack()\n",
    "\n",
    "boton=tk.Button(frame,text=\"Salir\", fg=\"red\",command=root.destroy)\n",
    "boton.pack(side=tk.LEFT)\n",
    "slogan=tk.Button(frame,text=\"Eslogan\", command=slogan)\n",
    "slogan.pack(side=tk.LEFT)\n",
    "\n",
    "texto=\"Do or do not. Ther is no try.\\n(Yoda)\"\n",
    "widget_msg=tk.Message(root,text=texto)\n",
    "widget_msg.config(bg=\"lightgreen\", \n",
    "                  fg=\"darkgreen\",\n",
    "                  font=('times',72,'italic'),\n",
    "                  justify=tk.CENTER\n",
    "widget_msg.pack()\n",
    "root.mainloop()"
   ]
  },
  {
   "cell_type": "code",
   "execution_count": 2,
   "metadata": {},
   "outputs": [
    {
     "name": "stderr",
     "output_type": "stream",
     "text": [
      "Exception in Tkinter callback\n",
      "Traceback (most recent call last):\n",
      "  File \"C:\\Users\\jorma\\anaconda3\\lib\\tkinter\\__init__.py\", line 1883, in __call__\n",
      "    return self.func(*args)\n",
      "  File \"<ipython-input-2-5082ba355edd>\", line 7, in callback\n",
      "    boton_color.confif(fg=result[1])\n",
      "AttributeError: 'NoneType' object has no attribute 'confif'\n"
     ]
    }
   ],
   "source": [
    "import tkinter as tk\n",
    "from tkinter.colorchooser import askcolor\n",
    "\n",
    "def callback():\n",
    "    resulta=askcolor(color=\"#6A9662\",\n",
    "                     title=\"Elegir color\")\n",
    "    boton_color.confif(fg=result[1])\n",
    "    print(result)\n",
    "root=tk.Tk()\n",
    "boton_color=tk.Button(root,\n",
    "         text=\"Color\",\n",
    "          fg=\"darkgreen\",\n",
    "          command=callback).pack(side=tk.LEFT,padx=10)\n",
    "tk.Button(text=\"Salir\",\n",
    "          command=root.destroy,\n",
    "          fg=\"red\").pack(side=tk.LEFT,padx=10)\n",
    "tk.mainloop()"
   ]
  },
  {
   "cell_type": "code",
   "execution_count": 4,
   "metadata": {},
   "outputs": [
    {
     "name": "stdout",
     "output_type": "stream",
     "text": [
      "C:/Users/jorma/OneDrive/Escritorio/Master Ciudades Inteligentes/ASIGNATURAS/Programación/MSC01-Python.pdf\n"
     ]
    }
   ],
   "source": [
    "import tkinter as tk\n",
    "from tkinter import filedialog as fd\n",
    "\n",
    "def callback():\n",
    "    name=fd.askopenfilename()\n",
    "    print(name)\n",
    "    \n",
    "tk.Button(text='Abrir...',\n",
    "          command=callback).pack(fill=tk.X)\n",
    "root.mainloop()"
   ]
  },
  {
   "cell_type": "code",
   "execution_count": 2,
   "metadata": {},
   "outputs": [
    {
     "ename": "SyntaxError",
     "evalue": "invalid syntax (<ipython-input-2-5fb746e6223c>, line 5)",
     "output_type": "error",
     "traceback": [
      "\u001b[1;36m  File \u001b[1;32m\"<ipython-input-2-5fb746e6223c>\"\u001b[1;36m, line \u001b[1;32m5\u001b[0m\n\u001b[1;33m    root=tk.Tk()\u001b[0m\n\u001b[1;37m    ^\u001b[0m\n\u001b[1;31mSyntaxError\u001b[0m\u001b[1;31m:\u001b[0m invalid syntax\n"
     ]
    }
   ],
   "source": [
    "import tkinter as tk \n",
    "def var_states():\n",
    "    print(\"hombre: %d\" % (var1.get(),var2.get())\n",
    "          \n",
    "root=tk.Tk()\n",
    "var1=tk.IntVar()\n",
    "tk.CheckButton, text=\"hombre\", variables=var1).grid(row=0,sticky=tk.W)\n",
    "var2=tk.IntVar()\n",
    "tk.CheckButton(root,text=\"mujer\",variables=var2).grid(row=1,sticky=tk.W)\n",
    "tk.Button(root,text='Mostrar',command=var_states).grid(row=2,sticky=tk,W,pady=4)\n",
    "root.mainloop()"
   ]
  },
  {
   "cell_type": "code",
   "execution_count": null,
   "metadata": {},
   "outputs": [],
   "source": []
  }
 ],
 "metadata": {
  "kernelspec": {
   "display_name": "Python 3",
   "language": "python",
   "name": "python3"
  },
  "language_info": {
   "codemirror_mode": {
    "name": "ipython",
    "version": 3
   },
   "file_extension": ".py",
   "mimetype": "text/x-python",
   "name": "python",
   "nbconvert_exporter": "python",
   "pygments_lexer": "ipython3",
   "version": "3.8.3"
  }
 },
 "nbformat": 4,
 "nbformat_minor": 4
}
