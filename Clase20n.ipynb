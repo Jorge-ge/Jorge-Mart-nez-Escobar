{
 "cells": [
  {
   "cell_type": "markdown",
   "metadata": {},
   "source": [
    "#### Crear una función que imprima un diccionario ordenado por sus claves"
   ]
  },
  {
   "cell_type": "code",
   "execution_count": 1,
   "metadata": {},
   "outputs": [],
   "source": [
    "diccionario_ciudades={\"28040\":\"Madrid\",\"40123\":\"Orense\",\"08080\":\"Barcelona\",\"09045\":\"Badajoz\",\n",
    "                      \"28002\":\"Madrid\",\"10368\":\"Jerez\",\n",
    "                      \"28029\":\"Alcorcón\",\"28027\":\"Madrid\"}\n",
    "for k in sorted(diccionario_ciudades):\n",
    "    print(k,diccionario_ciudades[k])\n",
    "print()\n",
    "\n",
    "for w in sorted(diccionario_ciudades, key=diccionario_ciudades.get):\n",
    "    print(w,diccionario_ciudades[w])"
   ]
  },
  {
   "cell_type": "markdown",
   "metadata": {},
   "source": [
    "#### El get lo que hace es darle la vuelta"
   ]
  },
  {
   "cell_type": "code",
   "execution_count": 2,
   "metadata": {},
   "outputs": [
    {
     "name": "stdout",
     "output_type": "stream",
     "text": [
      "28029 Alcorcón\n",
      "09045 Badajoz\n",
      "08080 Barcelona\n",
      "10368 Jerez\n",
      "28002 Madrid\n",
      "28027 Madrid\n",
      "28040 Madrid\n",
      "40123 Orense\n"
     ]
    }
   ],
   "source": [
    "lista_ciudades=[]\n",
    "for e in diccionario_ciudades:\n",
    "    lista_ciudades.append((diccionario_ciudades.get(e),e))\n",
    "\n",
    "for ciudad in sorted(lista_ciudades):\n",
    "    print(ciudad[1],ciudad[0])"
   ]
  },
  {
   "cell_type": "code",
   "execution_count": 3,
   "metadata": {},
   "outputs": [
    {
     "name": "stdout",
     "output_type": "stream",
     "text": [
      "{'Madrid': '28027', 'Orense': '40123', 'Barcelona': '08080', 'Badajoz': '09045', 'Jerez': '10368', 'Alcorcón': '28029'}\n"
     ]
    }
   ],
   "source": [
    "codigos_postales=diccionario_ciudades.keys()\n",
    "#print(codigos_postales)\n",
    "ciudades=diccionario_ciudades.values()\n",
    "#print(ciudades)\n",
    "\n",
    "nuevo_diccionario_ciudades=dict(zip(ciudades,codigos_postales))\n",
    "print(nuevo_diccionario_ciudades)"
   ]
  },
  {
   "cell_type": "markdown",
   "metadata": {},
   "source": [
    "#### Leer y escribir ficheros"
   ]
  },
  {
   "cell_type": "code",
   "execution_count": 4,
   "metadata": {},
   "outputs": [],
   "source": [
    "cuadrados=[i**2 for i in range(1,11)]\n",
    "\n",
    "fichero=open(\"numeros.txt\",\"w\")\n",
    "for n in cuadrados:\n",
    "    fichero.write(str(n)+\"\\n\")\n",
    "fichero.close()"
   ]
  },
  {
   "cell_type": "code",
   "execution_count": 5,
   "metadata": {},
   "outputs": [
    {
     "name": "stdout",
     "output_type": "stream",
     "text": [
      "1\n",
      "4\n",
      "9\n",
      "16\n",
      "25\n",
      "36\n",
      "49\n",
      "64\n",
      "81\n",
      "100\n",
      "\n"
     ]
    }
   ],
   "source": [
    "fichero=open(\"numeros.txt\",\"r\")\n",
    "\n",
    "print(fichero.read())\n",
    "fichero.close()"
   ]
  },
  {
   "cell_type": "code",
   "execution_count": 6,
   "metadata": {},
   "outputs": [
    {
     "name": "stdout",
     "output_type": "stream",
     "text": [
      "1 4 9 16 25 36 49 64 81 100 \n"
     ]
    }
   ],
   "source": [
    "fichero=open(\"numeros.txt\",\"r\")\n",
    "\n",
    "linea=fichero.readline().strip()\n",
    "while linea:\n",
    "    print(linea,end=\" \")\n",
    "    linea=fichero.readline().strip()\n",
    "    \n",
    "print()\n",
    "fichero.close()\n"
   ]
  },
  {
   "cell_type": "code",
   "execution_count": 9,
   "metadata": {},
   "outputs": [
    {
     "name": "stdin",
     "output_type": "stream",
     "text": [
      "Dame la ruta del fichero: C:\\Users\\jorma\\OneDrive\\Escritorio\\Master Ciudades Inteligentes\\py18n\\Jorge-Mart-nez-Escobar/ Name\n"
     ]
    },
    {
     "name": "stdout",
     "output_type": "stream",
     "text": [
      "Todo ha ido bien\n"
     ]
    }
   ],
   "source": [
    "path=input(\"Dame la ruta del fichero:\")\n",
    "try:\n",
    "    fichero=open(path,\"w\")\n",
    "    fichero.write(\"Intento de escritura en un fichero\")\n",
    "except IOError:\n",
    "    print(\"Error al intentar escribir en el fichero\")\n",
    "else:\n",
    "    print(\"Todo ha ido bien\")\n",
    "    fichero.close()"
   ]
  },
  {
   "cell_type": "markdown",
   "metadata": {},
   "source": [
    "### Funciones\n"
   ]
  },
  {
   "cell_type": "code",
   "execution_count": 12,
   "metadata": {},
   "outputs": [
    {
     "name": "stdout",
     "output_type": "stream",
     "text": [
      "hola\n",
      "Hola, Guillermo\n",
      "hola\n",
      "Hola, Jorge\n"
     ]
    }
   ],
   "source": [
    "def hola():\n",
    "    print(\"hola\")\n",
    "def saluda(nombre):\n",
    "# funcion que imprime un saludo por la pantalla\n",
    "#nombre es un string con el nombre de la persona a la que saludamos\n",
    "    print(\"Hola,\",nombre)\n",
    "hola()\n",
    "saluda(\"Guillermo\")    \n",
    "hola()\n",
    "saluda(\"Jorge\")"
   ]
  },
  {
   "cell_type": "code",
   "execution_count": 18,
   "metadata": {},
   "outputs": [
    {
     "name": "stdin",
     "output_type": "stream",
     "text": [
      "Dime un número: 78\n",
      "Dime otro número 99\n"
     ]
    },
    {
     "name": "stdout",
     "output_type": "stream",
     "text": [
      "78\n"
     ]
    },
    {
     "name": "stdin",
     "output_type": "stream",
     "text": [
      "Dime otro número más: 44\n"
     ]
    },
    {
     "name": "stdout",
     "output_type": "stream",
     "text": [
      "44\n",
      "44\n"
     ]
    }
   ],
   "source": [
    "def max(n1,n2):\n",
    "# max calcula el máximo de los dos números que se le pasan como parámetro\n",
    "    if n1<n2:\n",
    "        return n1\n",
    "    else:\n",
    "        return n2\n",
    "    \n",
    "def max3 (n1,n2,n3):\n",
    "    #max3 calcuula el maximo de los tres numeros que se le pasan como parametro\n",
    "    return max(max(n1,n2),n3)\n",
    "num1=eval(input(\"Dime un número:\"))\n",
    "num2=eval(input(\"Dime otro número\"))\n",
    "\n",
    "print(max(num1,num2))\n",
    "\n",
    "num3=eval(input(\"Dime otro número más:\"))\n",
    "print(max(max(num1,num2),num3))\n",
    "print(max3(num1,num2,num3))"
   ]
  },
  {
   "cell_type": "code",
   "execution_count": 23,
   "metadata": {},
   "outputs": [
    {
     "name": "stdout",
     "output_type": "stream",
     "text": [
      "124816326412825651210242048409681921638432768655361310722621445242881048576209715241943048388608167772163355443267108864134217728268435456536870912107374182421474836484294967296858993459217179869184343597383686871947673613743895347227487790694454975581388810995116277762199023255552439804651110487960930222081759218604441635184372088832703687441776641407374883553282814749767106565629499534213121125899906842624\n"
     ]
    }
   ],
   "source": [
    "def pot2(n):\n",
    "    for i in range(n+1):\n",
    "        print(2**i,end=\" \")\n",
    "    print()\n",
    "pot2(50)"
   ]
  },
  {
   "cell_type": "code",
   "execution_count": 24,
   "metadata": {},
   "outputs": [
    {
     "name": "stdout",
     "output_type": "stream",
     "text": [
      "3628800\n"
     ]
    }
   ],
   "source": [
    "def factorial(n):\n",
    "    if n<2:\n",
    "        return 1\n",
    "    return n*factorial(n-1)\n",
    "print(factorial(10))"
   ]
  },
  {
   "cell_type": "code",
   "execution_count": 28,
   "metadata": {},
   "outputs": [
    {
     "name": "stdout",
     "output_type": "stream",
     "text": [
      "[1, 2, 3, [...]]\n",
      "[1, 2, 3, [...]]\n",
      "[0, 0, 0]\n",
      "[1, 2, 3, [...]]\n"
     ]
    }
   ],
   "source": [
    "def cambia(l):\n",
    "    l.append(l)\n",
    "    print(l)\n",
    "def nocambia(l):\n",
    "    l=[0,0,0]\n",
    "    print(l)\n",
    "l=[1,2,3]\n",
    "cambia(l)\n",
    "print(l)\n",
    "\n",
    "nocambia(l)\n",
    "print(l)"
   ]
  },
  {
   "cell_type": "code",
   "execution_count": 5,
   "metadata": {},
   "outputs": [
    {
     "name": "stdout",
     "output_type": "stream",
     "text": [
      "4 7\n",
      "7 4\n",
      "4 7\n",
      "7 4\n"
     ]
    }
   ],
   "source": [
    "def intercambia(n1,n2):\n",
    "    print(n1,n2)\n",
    "    n1,n2=n2,n1\n",
    "    print(n1,n2)\n",
    "num1=4\n",
    "num2=7\n",
    "intercambia(num1,num2)\n",
    "print(num1,num2)\n",
    "num1,num2=num2,num1\n",
    "print(num1,num2)\n"
   ]
  },
  {
   "cell_type": "code",
   "execution_count": 7,
   "metadata": {},
   "outputs": [
    {
     "name": "stdout",
     "output_type": "stream",
     "text": [
      "7 4 7 perro "
     ]
    }
   ],
   "source": [
    "print(num1,num2,7,\"perro\",end=\" \")"
   ]
  },
  {
   "cell_type": "code",
   "execution_count": 9,
   "metadata": {},
   "outputs": [
    {
     "ename": "NameError",
     "evalue": "name 'intercambia2' is not defined",
     "output_type": "error",
     "traceback": [
      "\u001b[1;31m---------------------------------------------------------------------------\u001b[0m",
      "\u001b[1;31mNameError\u001b[0m                                 Traceback (most recent call last)",
      "\u001b[1;32m<ipython-input-9-9f6c94ab7f5e>\u001b[0m in \u001b[0;36m<module>\u001b[1;34m\u001b[0m\n\u001b[0;32m      4\u001b[0m \u001b[0mn2\u001b[0m\u001b[1;33m=\u001b[0m\u001b[1;36m7\u001b[0m\u001b[1;33m\u001b[0m\u001b[1;33m\u001b[0m\u001b[0m\n\u001b[0;32m      5\u001b[0m \u001b[1;33m\u001b[0m\u001b[0m\n\u001b[1;32m----> 6\u001b[1;33m \u001b[0mn1\u001b[0m\u001b[1;33m,\u001b[0m\u001b[0mn2\u001b[0m\u001b[1;33m=\u001b[0m\u001b[0mintercambia2\u001b[0m\u001b[1;33m(\u001b[0m\u001b[0mn1\u001b[0m\u001b[1;33m,\u001b[0m\u001b[0mn2\u001b[0m\u001b[1;33m)\u001b[0m\u001b[1;33m\u001b[0m\u001b[1;33m\u001b[0m\u001b[0m\n\u001b[0m\u001b[0;32m      7\u001b[0m \u001b[0mprint\u001b[0m\u001b[1;33m(\u001b[0m\u001b[0mn1\u001b[0m\u001b[1;33m,\u001b[0m\u001b[0mn2\u001b[0m\u001b[1;33m)\u001b[0m\u001b[1;33m\u001b[0m\u001b[1;33m\u001b[0m\u001b[0m\n\u001b[0;32m      8\u001b[0m \u001b[1;33m\u001b[0m\u001b[0m\n",
      "\u001b[1;31mNameError\u001b[0m: name 'intercambia2' is not defined"
     ]
    }
   ],
   "source": [
    "def intercambia(n1,n2):\n",
    "    return n2,n1\n",
    "n1=4\n",
    "n2=7\n",
    "\n",
    "n1,n2=intercambia2(n1,n2)\n",
    "print(n1,n2)\n",
    "    "
   ]
  },
  {
   "cell_type": "code",
   "execution_count": null,
   "metadata": {},
   "outputs": [],
   "source": []
  },
  {
   "cell_type": "code",
   "execution_count": null,
   "metadata": {},
   "outputs": [],
   "source": []
  },
  {
   "cell_type": "code",
   "execution_count": null,
   "metadata": {},
   "outputs": [],
   "source": []
  },
  {
   "cell_type": "code",
   "execution_count": null,
   "metadata": {},
   "outputs": [],
   "source": []
  }
 ],
 "metadata": {
  "kernelspec": {
   "display_name": "Python 3",
   "language": "python",
   "name": "python3"
  },
  "language_info": {
   "codemirror_mode": {
    "name": "ipython",
    "version": 3
   },
   "file_extension": ".py",
   "mimetype": "text/x-python",
   "name": "python",
   "nbconvert_exporter": "python",
   "pygments_lexer": "ipython3",
   "version": "3.8.3"
  }
 },
 "nbformat": 4,
 "nbformat_minor": 4
}
